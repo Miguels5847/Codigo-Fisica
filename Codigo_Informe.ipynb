{
  "nbformat": 4,
  "nbformat_minor": 0,
  "metadata": {
    "colab": {
      "provenance": [],
      "authorship_tag": "ABX9TyOaLwF78fvtbB4CxmnKh0so",
      "include_colab_link": true
    },
    "kernelspec": {
      "name": "python3",
      "display_name": "Python 3"
    },
    "language_info": {
      "name": "python"
    }
  },
  "cells": [
    {
      "cell_type": "markdown",
      "metadata": {
        "id": "view-in-github",
        "colab_type": "text"
      },
      "source": [
        "<a href=\"https://colab.research.google.com/github/Miguels5847/Codigo-Fisica/blob/main/Codigo_Informe.ipynb\" target=\"_parent\"><img src=\"https://colab.research.google.com/assets/colab-badge.svg\" alt=\"Open In Colab\"/></a>"
      ]
    },
    {
      "cell_type": "code",
      "execution_count": 36,
      "metadata": {
        "colab": {
          "base_uri": "https://localhost:8080/"
        },
        "id": "Nnd9p5_nekXR",
        "outputId": "9a127f23-b77d-4723-99c6-a9ed03b971d1"
      },
      "outputs": [
        {
          "output_type": "stream",
          "name": "stdout",
          "text": [
            "La altura máxima alcanzada es de : 20.408163265306122 metros\n",
            "El tiempo para alcanzar la altura máxima es de : -2.0408163265306123 seg\n"
          ]
        }
      ],
      "source": [
        "import math \n",
        "\n",
        "\n",
        "def fisica(Vo, Vf, t1, t2, a, h_i):\n",
        "  #Ingresar el tema a realizar \n",
        "  # \"Calcular desplazamiento\":\n",
        "  # \"Tiempo de caida\":\n",
        "  # \"Calcular a dos tiempos\"\n",
        "  # \"Altura máxima\"\n",
        "    cadena = \"Altura máxima\"\n",
        "\n",
        "    if cadena == \"Calcular desplazamiento\":\n",
        "       #Para calcular el desplzamiento se debe ingresar : Vo , a , t1\n",
        "        velocidad_inicial = Vo  #  m/seg\n",
        "        aceleracion = a  #  m/seg^2\n",
        "        tiempo = t1  #  seg\n",
        "\n",
        "        velocidad_final = velocidad_inicial + (aceleracion * tiempo)\n",
        "        desplazamiento = (velocidad_inicial * tiempo) + (0.5 * aceleracion * tiempo**2)\n",
        "\n",
        "        print(\"Velocidad final es:\", velocidad_final, \" m/seg\")\n",
        "        print(\"El Desplazamiento es:\", desplazamiento, \" metros\")\n",
        "\n",
        "    elif cadena == \"Tiempo de caida\":\n",
        "\n",
        "      #Para calcular el tiempo de caida se debe ingresar : a , h inicial \n",
        "      altura_inicial = h_i  # Altura inicial en metros\n",
        "      gravedad = a  #  m/seg^2\n",
        "\n",
        "      velocidad_final = math.sqrt(2 * gravedad * altura_inicial)\n",
        "      tiempo_caída = math.sqrt((2 * altura_inicial) / gravedad)\n",
        "\n",
        "      print(\"La velocidad final es:\", velocidad_final, \"m/seg\")\n",
        "      print(\"El tiempo de caída es:\", tiempo_caída, \"seg\")\n",
        "\n",
        "    elif cadena == \"Calcular a dos tiempos\":\n",
        "\n",
        "       #Para calcular a dos tiempos se debe ingresar : Vo , t1,t2,a\n",
        "\n",
        "      velocidad_inicial = Vo  #  m/seg\n",
        "      tiempo_1 = t1  # Tiempo en segundos para la velocidad constante\n",
        "      aceleracion = a  #  m/seg^2\n",
        "      tiempo_2 = t2  # Tiempo en segundos para la aceleración\n",
        "\n",
        "      velocidad_final = velocidad_inicial + (aceleracion * tiempo_2)\n",
        "\n",
        "      desplazamiento_1 = velocidad_inicial * tiempo_1\n",
        "      desplazamiento_2 = (velocidad_inicial * tiempo_2) + (0.5 * aceleracion * tiempo_2**2)\n",
        "      desplazamiento_total = desplazamiento_1 + desplazamiento_2\n",
        "\n",
        "      print(\"La velocidad final es:\", velocidad_final, \"m/seg\")\n",
        "      print(\"El Desplazamiento total es:\", desplazamiento_total, \"metros\")\n",
        "\n",
        "    elif cadena == \"Altura máxima\":\n",
        "      \n",
        "      #Para calcular la altura máxima se debe ingresar : Vo ,a\n",
        "     \n",
        "      velocidad_inicial = Vo  #  m/s\n",
        "      aceleracion_gravedad = a  #  m/s^2\n",
        "     \n",
        "      tiempo_alcanzar_altura_maxima = - Vo / a\n",
        "      altura_maxima = (Vo ** 2) / (2 * abs(a))\n",
        "\n",
        "\n",
        "      print(\"La altura máxima alcanzada es de :\", altura_maxima, \"metros\")\n",
        "      print(\"El tiempo para alcanzar la altura máxima es de :\", tiempo_alcanzar_altura_maxima, \"seg\")\n",
        "\n",
        "\n",
        "#     Ingreso de datos para la realización de ejercicios\n",
        "#     Orden de ingreso de datos\n",
        "#     Vo,Vf,t1,t2,a, h inicial\n",
        "fisica(20,0,10,0,9.8,0)"
      ]
    }
  ]
}